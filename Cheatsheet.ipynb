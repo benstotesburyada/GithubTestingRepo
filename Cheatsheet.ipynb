{
 "cells": [
  {
   "cell_type": "code",
   "execution_count": 6,
   "metadata": {},
   "outputs": [
    {
     "name": "stdout",
     "output_type": "stream",
     "text": [
      "the sun is 12\n"
     ]
    }
   ],
   "source": [
    "a=5\n",
    "b=7\n",
    "print(\"the sun is\", a+b)"
   ]
  },
  {
   "cell_type": "code",
   "execution_count": 1,
   "metadata": {},
   "outputs": [
    {
     "name": "stdout",
     "output_type": "stream",
     "text": [
      "Use camel case in variable names\n"
     ]
    }
   ],
   "source": [
    "print(\"Use camel case in variable names\")"
   ]
  },
  {
   "cell_type": "code",
   "execution_count": 2,
   "metadata": {},
   "outputs": [
    {
     "name": "stdout",
     "output_type": "stream",
     "text": [
      "Use ALLCAPS in constants\n"
     ]
    }
   ],
   "source": [
    "print(\"Use ALLCAPS in constants\")"
   ]
  },
  {
   "cell_type": "code",
   "execution_count": 3,
   "metadata": {},
   "outputs": [
    {
     "name": "stdout",
     "output_type": "stream",
     "text": [
      "1.) git add <filename>  2.) git commit -m writemessage 3.) git push\n"
     ]
    }
   ],
   "source": [
    "print(\"1.) git add <filename>  2.) git commit -m writemessage 3.) git push\")"
   ]
  }
 ],
 "metadata": {
  "kernelspec": {
   "display_name": "Python 3",
   "language": "python",
   "name": "python3"
  },
  "language_info": {
   "codemirror_mode": {
    "name": "ipython",
    "version": 3
   },
   "file_extension": ".py",
   "mimetype": "text/x-python",
   "name": "python",
   "nbconvert_exporter": "python",
   "pygments_lexer": "ipython3",
   "version": "3.5.2"
  }
 },
 "nbformat": 4,
 "nbformat_minor": 2
}
