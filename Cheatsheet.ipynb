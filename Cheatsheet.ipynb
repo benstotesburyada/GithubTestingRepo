{
 "cells": [
  {
   "cell_type": "markdown",
   "metadata": {},
   "source": [
    "# Python Syntax\n",
    "\n",
    "Use \",\" inbetween variables inside the \"print\" function in order to get spaces between variables\n",
    "\n",
    "e.g"
   ]
  },
  {
   "cell_type": "code",
   "execution_count": 11,
   "metadata": {},
   "outputs": [
    {
     "name": "stdout",
     "output_type": "stream",
     "text": [
      "First name Surname\n"
     ]
    }
   ],
   "source": [
    "a=\"First name\"\n",
    "b=\"Surname\"\n",
    "\n",
    "print(a, b)"
   ]
  },
  {
   "cell_type": "markdown",
   "metadata": {},
   "source": [
    "# Importing Modules\n",
    "\n",
    "``` python\n",
    "#import whole module\n",
    "import random\n",
    "num = random.randint(1, 10)\n",
    "print('your random number is ', num)\n",
    "```\n",
    "\n",
    "```python\n",
    "#import specific function\n",
    "from random import randint\n",
    "num = randint(1, 10)\n",
    "print('your random number is ', num)\n",
    "```"
   ]
  },
  {
   "cell_type": "markdown",
   "metadata": {},
   "source": [
    "# If/Else/Elif Statements\n",
    "\n",
    "``` python\n",
    "name = 'fred'\n",
    "age = 12\n",
    "if age > 10:\n",
    "print('you are too young')\n",
    "else:\n",
    "print('you are old enough')\n",
    "```\n",
    "Will print \"you are too young\" if age is less than 10, \"you are old enough\" if age is more than 10\n",
    "\n",
    "``` python \n",
    "name = 'fred'\n",
    "age = 12\n",
    "if age == 10:\n",
    "print('you are too young')\n",
    "elif age == 11:\n",
    "print('you are still too young')\n",
    "elif age == 12:\n",
    "\tprint('you are exactly old enough')\n",
    "else:\n",
    "\tprint('You are either too young or old enough')\n",
    "```\n",
    "Will print \"you are too young\" if age is equal 10, \"you are still too young\" if age is equal to 11, \"you are exactly old enough\" if age is equal to 12.\n",
    "\n",
    "If the age variable is not equal to any of these it will print \"You are either too young or old enough\"\n"
   ]
  },
  {
   "cell_type": "markdown",
   "metadata": {},
   "source": [
    "## Testing more than one function\n",
    "### Python Logical Operators\n",
    "\n",
    "and - both conditions must be true\n",
    "\n",
    "or - one condition (or both) must be true\n",
    "\n",
    "not - only applies to one condition. The opposite.\n",
    "\n",
    "\n",
    "\n",
    "``` python\n",
    "name = 'fred'\n",
    "age = 12\n",
    "wonGame = False\n",
    "\n",
    "#Checks if \"age\" is more than 10 and that \"name\" is equal to \"fred\"\n",
    "if age > 10 and name == 'fred':\n",
    "  print('you are my favourite!!')\n",
    "else:\n",
    "  print('not quite there')\n",
    "\n",
    "#Checks if age is less than 100, but also more than 50\n",
    "if (age < 100) and age >50 :\n",
    "  print('Only prints if age is less than 100 but more than 50')\n",
    "else: \n",
    "  print(\"Only prints if age does not fit the above if statement\")\n",
    "\n",
    "#when you test Booleans you don’t have to check equality to True or False\n",
    "#they ARE True or False themselves\n",
    "if not wonGame:\n",
    "  print('Sorry you lost')\n",
    "```\n",
    "\n",
    "\n",
    "\n",
    "\n"
   ]
  },
  {
   "cell_type": "code",
   "execution_count": 12,
   "metadata": {
    "collapsed": true
   },
   "outputs": [],
   "source": [
    "user=17\n",
    "\n",
    "if (user<17)"
   ]
  },
  {
   "cell_type": "code",
   "execution_count": 6,
   "metadata": {},
   "outputs": [
    {
     "name": "stdout",
     "output_type": "stream",
     "text": [
      "the sun is 12\n"
     ]
    }
   ],
   "source": [
    "a=5\n",
    "b=7\n",
    "print(\"the sun is\", a+b)"
   ]
  },
  {
   "cell_type": "code",
   "execution_count": 1,
   "metadata": {},
   "outputs": [
    {
     "name": "stdout",
     "output_type": "stream",
     "text": [
      "Use camel case in variable names\n"
     ]
    }
   ],
   "source": [
    "print(\"Use camel case in variable names\")"
   ]
  },
  {
   "cell_type": "code",
   "execution_count": 2,
   "metadata": {},
   "outputs": [
    {
     "name": "stdout",
     "output_type": "stream",
     "text": [
      "Use ALLCAPS in constants\n"
     ]
    }
   ],
   "source": [
    "print(\"Use ALLCAPS in constants\")"
   ]
  },
  {
   "cell_type": "markdown",
   "metadata": {},
   "source": [
    "# Github Workflow\n",
    "Workflow for uploading work to github\n",
    "```\n",
    "git add <filename>\n",
    "\n",
    "git commit -m writemessage\n",
    "\n",
    "git push\n",
    "```\n",
    "User will then be prompted to input email and password\n"
   ]
  }
 ],
 "metadata": {
  "kernelspec": {
   "display_name": "Python 3",
   "language": "python",
   "name": "python3"
  },
  "language_info": {
   "codemirror_mode": {
    "name": "ipython",
    "version": 3
   },
   "file_extension": ".py",
   "mimetype": "text/x-python",
   "name": "python",
   "nbconvert_exporter": "python",
   "pygments_lexer": "ipython3",
   "version": "3.5.2"
  }
 },
 "nbformat": 4,
 "nbformat_minor": 2
}
